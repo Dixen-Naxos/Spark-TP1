{
 "cells": [
  {
   "cell_type": "code",
   "execution_count": null,
   "id": "a61d4586-cac8-4534-bc27-6cd333cbfccc",
   "metadata": {},
   "outputs": [],
   "source": [
    "from pyspark.sql import SparkSession\n",
    "from pyspark.sql.types import StringType\n",
    "from pyspark.sql.window import Window\n",
    "from pyspark.sql.functions import col, udf, when, desc, sum, dense_rank"
   ]
  },
  {
   "cell_type": "code",
   "execution_count": null,
   "id": "bd9c9822-e721-42f4-8d5c-dd2b1b3f7578",
   "metadata": {},
   "outputs": [],
   "source": [
    "# Initialisation de la SparkSession\n",
    "spark = SparkSession \\\n",
    "    .builder \\\n",
    "    .appName(\"dataframes-flights\") \\\n",
    "    .master(\"local[*]\") \\\n",
    "    .getOrCreate()"
   ]
  },
  {
   "cell_type": "code",
   "execution_count": null,
   "id": "d3b56536-bc57-4287-bf63-dd6d5f9f9e5d",
   "metadata": {},
   "outputs": [],
   "source": [
    "# Lecture du fichier\n",
    "flights_file = \"data/flights.csv\"\n",
    "\n",
    "flights_df = spark.read \\\n",
    "    .option(\"inferSchema\", \"true\") \\\n",
    "    .option(\"header\", \"true\") \\\n",
    "    .load(flights_file, format=\"csv\")"
   ]
  },
  {
   "cell_type": "code",
   "execution_count": null,
   "id": "690f0777-6f13-46b3-ba2f-f1b179b8b163",
   "metadata": {},
   "outputs": [],
   "source": [
    "# 1\n",
    "flights_df.filter(col(\"distance\") > 1000) \\\n",
    "    .show()"
   ]
  },
  {
   "cell_type": "code",
   "execution_count": null,
   "id": "cac09452-a111-44ba-b79c-d1893bf3b00d",
   "metadata": {},
   "outputs": [],
   "source": [
    "# 2\n",
    "delay_df = flights_df.groupBy(\"destination\") \\\n",
    "    .agg(sum(\"delay\").alias(\"Count\")) \\\n",
    "    .orderBy(\"Count\", ascending=False)\n",
    "\n",
    "delay_df.show(n=10)"
   ]
  },
  {
   "cell_type": "code",
   "execution_count": null,
   "id": "a63ad7ee-0ca4-49dc-8f40-e1ff7b55976f",
   "metadata": {},
   "outputs": [],
   "source": [
    "# 3\n",
    "delay_df.write.format(\"csv\").save(\"delay.csv\", mode='overwrite')"
   ]
  },
  {
   "cell_type": "code",
   "execution_count": null,
   "id": "f2e052b4-6179-445c-9e35-8141ddf91c95",
   "metadata": {},
   "outputs": [],
   "source": [
    "# 4\n",
    "delay_df.repartition(10).write.format(\"csv\").save(\"delay.csv\", mode='overwrite')"
   ]
  },
  {
   "cell_type": "code",
   "execution_count": null,
   "id": "030ac922-9773-42fa-893b-97348e430e01",
   "metadata": {},
   "outputs": [],
   "source": [
    "# 5\n",
    "flights_df.select(\"delay\", \"origin\", \"destination\") \\\n",
    "    .where(col(\"origin\") == \"SFO\") \\\n",
    "    .where(col(\"destination\") == \"ORD\") \\\n",
    "    .where(col(\"delay\") > 120) \\\n",
    "    .orderBy(\"delay\", ascending=False) \\\n",
    "    .show()"
   ]
  },
  {
   "cell_type": "code",
   "execution_count": null,
   "id": "74b8d5f9-96af-4074-8a83-017dfbfca47e",
   "metadata": {},
   "outputs": [],
   "source": [
    "# 6\n",
    "flights_df.select(\"delay\", \"origin\", \"destination\") \\\n",
    "    .withColumn(\"delay_type\",\n",
    "                when(col(\"delay\") >= 360, \"Très long retard\")\n",
    "                .when((col(\"delay\") >= 120) & (col(\"delay\") < 360), \"Long retard\")\n",
    "                .when((col(\"delay\") >= 60) & (col(\"delay\") < 120), \"Retard modéré\")\n",
    "                .when((col(\"delay\") > 0) & (col(\"delay\") < 60), \"Retard tolérable\")\n",
    "                .when(col(\"delay\") == 0, \"Pas de retard\")\n",
    "                .otherwise(\"En avance\")) \\\n",
    "    .show()"
   ]
  },
  {
   "cell_type": "code",
   "execution_count": null,
   "id": "74ba9ca6-b023-4e6b-9c96-f2eb4d75242b",
   "metadata": {},
   "outputs": [],
   "source": [
    "# 7\n",
    "df = flights_df.select(\"origin\", \"destination\", \"delay\") \\\n",
    "    .where(col(\"origin\").isin(\"SEA\", \"SFO\", \"JFK\")) \\\n",
    "    .where(col(\"destination\").isin(\"SEA\", \"SFO\", \"JFK\", \"DEN\", \"ORD\", \"LAX\", \"ATL\")) \\\n",
    "    .groupBy(\"origin\", \"destination\") \\\n",
    "    .agg(sum(\"delay\").alias(\"TotalDelays\")) \\\n",
    "    .orderBy(\"origin\")\n",
    "\n",
    "df.show()"
   ]
  },
  {
   "cell_type": "code",
   "execution_count": null,
   "id": "8ff7cae8-4e62-41f7-b3a3-184673cd8050",
   "metadata": {},
   "outputs": [],
   "source": [
    "# 8\n",
    "windowSpec = Window.partitionBy(\"origin\").orderBy(desc(\"TotalDelays\"))\n",
    "\n",
    "df.withColumn(\"dense_rank\", dense_rank().over(windowSpec)) \\\n",
    "    .where(col(\"dense_rank\") <= 3) \\\n",
    "    .show()"
   ]
  },
  {
   "cell_type": "code",
   "execution_count": null,
   "id": "0396b97e-4c48-4d78-a6a3-f566234f2e74",
   "metadata": {},
   "outputs": [],
   "source": [
    "# 9\n",
    "def route(origin, destination):\n",
    "    return origin + \"-\" + destination\n",
    "\n",
    "\n",
    "route_col = udf(route, StringType())\n",
    "\n",
    "flights_df.withColumn('route', route_col('origin', 'destination')).show()"
   ]
  },
  {
   "cell_type": "code",
   "execution_count": null,
   "id": "4826c64e-0c29-4a1a-a732-ad623c19efd6",
   "metadata": {},
   "outputs": [],
   "source": []
  }
 ],
 "metadata": {
  "kernelspec": {
   "display_name": "Python 3 (ipykernel)",
   "language": "python",
   "name": "python3"
  },
  "language_info": {
   "codemirror_mode": {
    "name": "ipython",
    "version": 3
   },
   "file_extension": ".py",
   "mimetype": "text/x-python",
   "name": "python",
   "nbconvert_exporter": "python",
   "pygments_lexer": "ipython3",
   "version": "3.11.6"
  }
 },
 "nbformat": 4,
 "nbformat_minor": 5
}
